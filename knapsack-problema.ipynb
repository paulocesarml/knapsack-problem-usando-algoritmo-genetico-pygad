{
 "cells": [
  {
   "cell_type": "markdown",
   "metadata": {},
   "source": [
    "<h3>O problema da mochila consistem em colocar em preencher uma mochila com objetos de diferentes pesos e valores. O objetivo é que se preencha a mochila com o maior valor possível sem que ultrapasse o peso máximo. Neste projeto é usado algoritmo genético (meta-heurística) para que se tenha o valor aproximado da solução ótima.</h3>"
   ]
  },
  {
   "cell_type": "code",
   "execution_count": 1,
   "metadata": {},
   "outputs": [],
   "source": [
    "# Import das bibliotecas utilzadas\n",
    "import pygad\n",
    "import random\n",
    "import numpy as np"
   ]
  },
  {
   "cell_type": "code",
   "execution_count": 9,
   "metadata": {},
   "outputs": [],
   "source": [
    "# Infomrado os pesos e os valores dos produtos\n",
    "\n",
    "# Peso dos produtos\n",
    "peso_produtos =  [7, 8, 4, 10, 4, 6, 4, 1, 1, 1, 1, 1, 1, 2, 1, 1, 1, 1, 1, 1, 1, 1, 1,  2,  5]\n",
    "# Valor dos produtos\n",
    "valor_produtos = [5, 8, 3,  2, 7, 9, 4, 9, 9, 9, 9, 9, 9, 8, 9, 9, 9, 9, 9, 9, 9, 9, 4, 10, 14]\n",
    "\n",
    "# Peso total permitido dentro da mochila\n",
    "peso_permitido_produtos = 22"
   ]
  },
  {
   "cell_type": "code",
   "execution_count": 10,
   "metadata": {},
   "outputs": [],
   "source": [
    "# Inicializa os parametros\n",
    "\n",
    "# Representa a quantidade de cromossomos\n",
    "num_linhas = 100\n",
    "# Representa a quantidade de genes\n",
    "num_colunas = len(peso_produtos)\n",
    "\n",
    "# inicializa um numpy array contendo a quantidade de indices, o resulta da multiplicação \n",
    "# entre o numero de cromossomo e a quantidade de genes (ex: se existir 100 cromossomos e 10 genes cada,\n",
    "# o resultado final será de 1000 posições no array com valor 0)\n",
    "cromossomos = np.ones(num_linhas*num_colunas)\n",
    "\n",
    "# Para cada posição no numpy array, é atribuido de forma arbitrária o valor 0 ou 1 para gerar\n",
    "# uma lista com a população inicial \n",
    "cromossomos = [ random.randint(0,1) for x in cromossomos]\n",
    "\n",
    "# Converte a lista em numpy array\n",
    "cromossomos = np.asarray(cromossomos)\n",
    "\n",
    "# Redimensiona o array numpy para que contenha a quantidade de linhas (representando os cromossomos)\n",
    "# e a quantidae de colunas para cada linha (representano os genes)\n",
    "cromossomos = cromossomos.reshape(num_linhas,num_colunas)"
   ]
  },
  {
   "cell_type": "code",
   "execution_count": 11,
   "metadata": {},
   "outputs": [],
   "source": [
    "# Função de avaliação para a solução do Knapsack problem\n",
    "def fitness_func(solution, solution_idx):\n",
    "\n",
    "    # Multiplica cada posição do cromossomo (representado por números binários) pelo peso dos produtos\n",
    "    peso_produtos_selecionados = np.sum(solution * peso_produtos)\n",
    "\n",
    "    # Multiplica cada posição do cromossomo (representado por números binários) pelo valor dos produtos\n",
    "    valor_produtos_selecionados = np.sum(solution * valor_produtos)\n",
    "\n",
    "    # Calcula a diferença entre o peso contido na solução e o peso permitido na mochila\n",
    "    peso_ultrapassado = peso_produtos_selecionados-peso_permitido_produtos if peso_produtos_selecionados-peso_permitido_produtos > 0 else 0\n",
    "\n",
    "    # Calcula o Fitness da solução\n",
    "    # O resultado da fitness é o valor dos produtos menos o peso ultrapassado na mochila\n",
    "    # O valor do produto é multiplicado por 10 para elevear o valor de fitness\n",
    "    # O peso do produto é o peso permitido da mochila multiplicado pelo peso ultrapassado ao quadrado,%%!\n",
    "    # assim quanto maior a distância do peso permitido em relação ao peso calculado, maior será \n",
    "    # a penalidade para redução de fitness\n",
    "    fitness = (valor_produtos_selecionados*10)-(peso_permitido_produtos*(peso_ultrapassado**2))\n",
    "\n",
    "    return fitness"
   ]
  },
  {
   "cell_type": "code",
   "execution_count": 12,
   "metadata": {},
   "outputs": [],
   "source": [
    "# Gera o objeto do pygad para execução do algoritmo\n",
    "ga_instance = pygad.GA(num_generations=200,\n",
    "                      num_parents_mating=5,\n",
    "                      fitness_func=fitness_func,\n",
    "                      num_genes=num_colunas,\n",
    "                      initial_population=cromossomos,\n",
    "                      mutation_percent_genes=0.01,\n",
    "                      mutation_type=\"random\",\n",
    "                      sol_per_pop=num_linhas,\n",
    "                      mutation_num_genes=1,\n",
    "                      mutation_by_replacement=True,\n",
    "                      random_mutation_min_val=0,\n",
    "                      random_mutation_max_val=1,\n",
    "                      delay_after_gen=0.2,\n",
    "                      crossover_type=\"two_points\")"
   ]
  },
  {
   "cell_type": "code",
   "execution_count": 13,
   "metadata": {},
   "outputs": [],
   "source": [
    "# Roda o algoritmo\n",
    "ga_instance.run()"
   ]
  },
  {
   "cell_type": "code",
   "execution_count": 14,
   "metadata": {},
   "outputs": [
    {
     "data": {
      "image/png": "[encoded data removed]",
      "text/plain": [
       "<Figure size 432x288 with 1 Axes>"
      ]
     },
     "metadata": {
      "needs_background": "light"
     },
     "output_type": "display_data"
    },
    {
     "data": {
      "image/png": "[encoded data removed]",
      "text/plain": [
       "<Figure size 432x288 with 1 Axes>"
      ]
     },
     "execution_count": 14,
     "metadata": {},
     "output_type": "execute_result"
    }
   ],
   "source": [
    "# Aprenseta a curva referente as gerações e o valor de fitness\n",
    "# Percebe-se que muito no início, na geração 25 já converge para\n",
    "# O valor de fitness com a melhor solução encontrada pelo \n",
    "# algoritmo genético\n",
    "ga_instance.plot_fitness()"
   ]
  },
  {
   "cell_type": "code",
   "execution_count": 15,
   "metadata": {},
   "outputs": [
    {
     "name": "stdout",
     "output_type": "stream",
     "text": [
      "Parameter of the best solution : [0. 0. 0. 0. 0. 0. 0. 1. 1. 1. 1. 1. 1. 1. 1. 1. 1. 1. 1. 1. 1. 1. 1. 1.\n",
      " 1.] \n",
      "Pesos =  [7, 8, 4, 10, 4, 6, 4, 1, 1, 1, 1, 1, 1, 2, 1, 1, 1, 1, 1, 1, 1, 1, 1, 2, 5]\n",
      "valor_produto [5, 8, 3, 2, 7, 9, 4, 9, 9, 9, 9, 9, 9, 8, 9, 9, 9, 9, 9, 9, 9, 9, 4, 10, 14]\n",
      "Fitness value of the best solution = 1572.3396343340944 \n",
      "Index of the best solution : 0 \n",
      "Peso =  24.0\n",
      "Valor =  162.0\n"
     ]
    }
   ],
   "source": [
    "# Apresentação dos resultados obtidos pelo algoritmo\n",
    "solution, solution_fitness, solution_idx = ga_instance.best_solution()\n",
    "solution = np.around(solution)\n",
    "print(\"Parameter of the best solution : {solution} \".format(solution=solution))\n",
    "print(\"Pesos = \", peso_produtos)\n",
    "print(\"valor_produto\", valor_produtos)\n",
    "print(\"Fitness value of the best solution = {solution_fitness} \".format(solution_fitness=solution_fitness))\n",
    "print(\"Index of the best solution : {solution_idx} \".format(solution_idx=solution_idx))\n",
    "\n",
    "print('Peso = ', np.sum(solution*peso_produtos))\n",
    "print('Valor = ', np.sum(solution*valor_produtos))"
   ]
  }
 ],
 "metadata": {
  "interpreter": {
   "hash": "c05a72aa918c87a070fd6c43863fa4d86f24cb455df911d14078840426698ec5"
  },
  "kernelspec": {
   "display_name": "Python 3.8.2 64-bit ('forecast': conda)",
   "name": "python3"
  },
  "language_info": {
   "codemirror_mode": {
    "name": "ipython",
    "version": 3
   },
   "file_extension": ".py",
   "mimetype": "text/x-python",
   "name": "python",
   "nbconvert_exporter": "python",
   "pygments_lexer": "ipython3",
   "version": "3.8.2"
  },
  "orig_nbformat": 4
 },
 "nbformat": 4,
 "nbformat_minor": 2
}
